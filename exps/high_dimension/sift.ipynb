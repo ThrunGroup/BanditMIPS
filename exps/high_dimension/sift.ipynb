{
 "cells": [
  {
   "cell_type": "code",
   "execution_count": 49,
   "id": "7f2c76e5-a1ea-41ae-81d1-7d78614b8c36",
   "metadata": {},
   "outputs": [],
   "source": [
    "# From https://gist.github.com/danoneata/49a807f47656fedbb389\n",
    "\n",
    "import numpy as np\n",
    "\n",
    "\n",
    "def fvecs_read(filename, c_contiguous=True):\n",
    "    fv = np.fromfile(filename, dtype=np.float32)\n",
    "    if fv.size == 0:\n",
    "        return np.zeros((0, 0))\n",
    "    dim = fv.view(np.int32)[0]\n",
    "    assert dim > 0\n",
    "    fv = fv.reshape(-1, 1 + dim)\n",
    "    if not all(fv.view(np.int32)[:, 0] == dim):\n",
    "        raise IOError(\"Non-uniform vector sizes in \" + filename)\n",
    "    fv = fv[:, 1:]\n",
    "    if c_contiguous:\n",
    "        fv = fv.copy()\n",
    "    return fv\n",
    "\n",
    "X = fvecs_read(\"../../data/sift/sift_base.fvecs\")\n",
    "data = X.T\n",
    "data = data.astype(np.float64)"
   ]
  },
  {
   "cell_type": "code",
   "execution_count": 71,
   "id": "462c0873-4034-4fc4-860a-f02c844f1349",
   "metadata": {
    "pycharm": {
     "name": "#%%\n"
    }
   },
   "outputs": [],
   "source": [
    "def choose_signal_and_atoms(data):\n",
    "    N = len(data)\n",
    "    signal_idx = np.random.choice(N)\n",
    "    signals = data[signal_idx].reshape(1, -1)\n",
    "    \n",
    "    if signal_idx == 0:\n",
    "        atoms = data[signal_idx+1:]\n",
    "    elif signal_idx == N-1:\n",
    "        atoms = data[:signal_idx]\n",
    "    else:\n",
    "        atoms = np.vstack([data[:signal_idx], data[signal_idx+1:]])  # TODO: Boundary\n",
    "\n",
    "    return signals, atoms"
   ]
  },
  {
   "cell_type": "code",
   "execution_count": 75,
   "id": "3662b0cf-b8cf-456d-b942-10a30dbf9e30",
   "metadata": {},
   "outputs": [
    {
     "name": "stdout",
     "output_type": "stream",
     "text": [
      "[[40]] 40\n",
      "[[80]] 80\n",
      "[[47]] 47\n",
      "[[71]] 71\n",
      "[[48]] 48\n",
      "[[71]] 71\n",
      "[[48]] 48\n",
      "[[39]] 39\n",
      "[[79]] 79\n",
      "[[79]] 79\n"
     ]
    }
   ],
   "source": [
    "from algorithms.action_elimination import action_elimination\n",
    "\n",
    "for i in range(10):\n",
    "    signals, atoms = choose_signal_and_atoms()\n",
    "    best_atom, budget = action_elimination(atoms, signals, var_proxy = 5000, epsilon=0, delta=0.001, abs=True, batch_size=300)\n",
    "    best_atom_naive = np.argmax(atoms @ signals.T)\n",
    "    print(best_atom, best_atom_naive)"
   ]
  },
  {
   "cell_type": "code",
   "execution_count": null,
   "id": "0e0a322d-49ff-4d91-a56f-3d26c29bb92e",
   "metadata": {},
   "outputs": [],
   "source": []
  }
 ],
 "metadata": {
  "kernelspec": {
   "display_name": "Python 3 (ipykernel)",
   "language": "python",
   "name": "python3"
  },
  "language_info": {
   "codemirror_mode": {
    "name": "ipython",
    "version": 3
   },
   "file_extension": ".py",
   "mimetype": "text/x-python",
   "name": "python",
   "nbconvert_exporter": "python",
   "pygments_lexer": "ipython3",
   "version": "3.10.5"
  }
 },
 "nbformat": 4,
 "nbformat_minor": 5
}