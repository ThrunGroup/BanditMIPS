{
 "cells": [
  {
   "cell_type": "code",
   "execution_count": null,
   "outputs": [],
   "source": [
    "# import os\n",
    "# from google.colab import drive\n",
    "# drive.mount('/content/gdrive/')\n",
    "# print(os.getcwd())\n",
    "# os.chdir(\"/content/gdrive/MyDrive/Thrun lab/rebuttal Bandit MIPS\")\n",
    "# print(os.getcwd())\n",
    "# !ls\n",
    "\n",
    "!pip install -U transformers datasets evaluate accelerate\n",
    "!nvidia-smi\n",
    "\n",
    "example_text = \"Maximum Inner Product Search (MIPS) is a ubiquitous task in \" \\\n",
    "+ \"machine learning applications such as recommendation systems. Given a query \" \\\n",
    "+ \"vector and n atom vectors in d-dimensional space, the goal of MIPS is to \" \\\n",
    "+ \"find the atom that has the highest inner product with the query vector\"\n",
    "\n",
    "from transformers import AutoTokenizer, AutoModelWithLMHead, AutoModelForCausalLM\n",
    "\n",
    "tokenizer = AutoTokenizer.from_pretrained(\"facebook/opt-6.7b\")\n",
    "model = AutoModelForCausalLM.from_pretrained(\"facebook/opt-6.7b\")\n",
    "\n",
    "\n",
    "import torch\n",
    "\n",
    "print(model.lm_head.weight.size())\n",
    "norm = torch.norm(model.lm_head.weight, dim=1)\n",
    "print(f\"max: {norm.max()}/ min: {norm.min()}\")\n",
    "\n",
    "import os\n",
    "\n",
    "def generate_queries():\n",
    "  input_ids = tokenizer.encode(\n",
    "            example_text,\n",
    "            return_tensors=\"pt\",\n",
    "        )  # Encode input sequence\n",
    "  output = model.model(input_ids=input_ids)\n",
    "\n",
    "  data_dir = \"mips_opt\"\n",
    "  os.makedirs(data_dir, exist_ok=True)\n",
    "  torch.save(model.lm_head.weight, os.path.join(data_dir, \"OPT_LM_HEAD_WEIGHT.pt\"))\n",
    "  torch.save(output.last_hidden_state[0,-10:, :], os.path.join(data_dir,\"OPT_QUERIES.pt\"))\n",
    "  print(output.last_hidden_state[0,-10:, :].shape)\n",
    "\n",
    "generate_queries()\n"
   ],
   "metadata": {
    "collapsed": false,
    "pycharm": {
     "name": "#%%\n",
     "is_executing": true
    }
   }
  },
  {
   "cell_type": "code",
   "execution_count": null,
   "outputs": [],
   "source": [],
   "metadata": {
    "collapsed": false,
    "pycharm": {
     "name": "#%%\n"
    }
   }
  }
 ],
 "metadata": {
  "kernelspec": {
   "display_name": "Python 3",
   "language": "python",
   "name": "python3"
  },
  "language_info": {
   "codemirror_mode": {
    "name": "ipython",
    "version": 2
   },
   "file_extension": ".py",
   "mimetype": "text/x-python",
   "name": "python",
   "nbconvert_exporter": "python",
   "pygments_lexer": "ipython2",
   "version": "2.7.6"
  }
 },
 "nbformat": 4,
 "nbformat_minor": 0
}