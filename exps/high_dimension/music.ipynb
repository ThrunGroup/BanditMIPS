{
 "cells": [
  {
   "cell_type": "code",
   "execution_count": 245,
   "id": "787bb7a9-fd75-4649-a13f-7657654cc26e",
   "metadata": {
    "pycharm": {
     "name": "#%%\n"
    }
   },
   "outputs": [
    {
     "name": "stdout",
     "output_type": "stream",
     "text": [
      "The autoreload extension is already loaded. To reload it, use:\n",
      "  %reload_ext autoreload\n"
     ]
    }
   ],
   "source": [
    "%load_ext autoreload\n",
    "%autoreload 2\n",
    "\n",
    "from data.simple_song import create_sin_wave, create_cos_wave, create_song, stack\n",
    "import soundfile as sf\n",
    "from scipy.fft import ifft, fft, fftfreq\n",
    "import matplotlib.pyplot as plt\n",
    "import numpy as np\n",
    "from utils.constants import SAMPLE_RATE\n",
    "from algorithms.action_elimination import action_elimination\n",
    "from utils.constants import SAMPLE_RATE, SECONDS_PER_MINUTE"
   ]
  },
  {
   "cell_type": "markdown",
   "id": "556e8a6f-4c1a-4a73-a8f7-5fa4b5f657d3",
   "metadata": {
    "tags": [],
    "pycharm": {
     "name": "#%% md\n"
    }
   },
   "source": [
    "# Human hearing is 16Hz to 32 KHz. Let's play around with Ultranumb by Blue Stahli"
   ]
  },
  {
   "cell_type": "code",
   "execution_count": 247,
   "id": "10eaa42a-c0f7-4d1e-80a1-e63efca88d4c",
   "metadata": {
    "pycharm": {
     "name": "#%%\n"
    }
   },
   "outputs": [
    {
     "name": "stdout",
     "output_type": "stream",
     "text": [
      "11713536\n"
     ]
    },
    {
     "name": "stderr",
     "output_type": "stream",
     "text": [
      "/Users/motiwari/opt/anaconda3/envs/mips/lib/python3.10/site-packages/matplotlib/cbook/__init__.py:1298: ComplexWarning: Casting complex values to real discards the imaginary part\n",
      "  return np.asarray(x, float)\n"
     ]
    },
    {
     "data": {
      "image/png": "[encoded data removed]",
      "text/plain": [
       "<Figure size 432x288 with 1 Axes>"
      ]
     },
     "metadata": {
      "needs_background": "light"
     },
     "output_type": "display_data"
    },
    {
     "data": {
      "image/png": "[encoded data removed]",
      "text/plain": [
       "<Figure size 432x288 with 1 Axes>"
      ]
     },
     "metadata": {
      "needs_background": "light"
     },
     "output_type": "display_data"
    }
   ],
   "source": [
    "data, samplerate = sf.read('ultranumb.wav')\n",
    "T = len(data)\n",
    "print(T)\n",
    "\n",
    "yf = fft(data)\n",
    "xf = fftfreq(T, 1 / SAMPLE_RATE)\n",
    "\n",
    "plt.plot(xf, yf)\n",
    "plt.show()\n",
    "\n",
    "plt.plot(xf, np.abs(yf))\n",
    "plt.show()"
   ]
  },
  {
   "cell_type": "code",
   "execution_count": 232,
   "id": "cd26a34b-0600-41a7-964a-6d9fe59983d7",
   "metadata": {
    "pycharm": {
     "name": "#%%\n"
    }
   },
   "outputs": [
    {
     "data": {
      "text/plain": [
       "array([-9.31322575e-10+1.13686838e-10j,  2.18278728e-10+1.83149496e-10j,\n",
       "       -1.45519152e-09+2.49201548e-10j, ...,\n",
       "        0.00000000e+00+6.45101870e-10j, -6.98491931e-10+1.91871656e-10j,\n",
       "        2.24099495e-09-8.82571403e-10j])"
      ]
     },
     "execution_count": 232,
     "metadata": {},
     "output_type": "execute_result"
    }
   ],
   "source": [
    "fft(yf)"
   ]
  },
  {
   "cell_type": "code",
   "execution_count": 234,
   "id": "08395737-813e-4b7e-9b56-987265bc5fbd",
   "metadata": {
    "pycharm": {
     "name": "#%%\n"
    }
   },
   "outputs": [],
   "source": [
    "# Write the IFFT of the FFT to file. This should be the same as the original file, up to precision\n",
    "\n",
    "sf.write('ultranumb_fft2.wav', np.real(ifft(yf)), SAMPLE_RATE)"
   ]
  },
  {
   "cell_type": "code",
   "execution_count": 236,
   "id": "25a50dad-8f4c-40e0-950a-f1ca759a8cee",
   "metadata": {
    "pycharm": {
     "name": "#%%\n"
    }
   },
   "outputs": [
    {
     "data": {
      "text/plain": [
       "[<matplotlib.lines.Line2D at 0x161cce620>]"
      ]
     },
     "execution_count": 236,
     "metadata": {},
     "output_type": "execute_result"
    },
    {
     "data": {
      "image/png": "[encoded data removed]",
      "text/plain": [
       "<Figure size 432x288 with 1 Axes>"
      ]
     },
     "metadata": {
      "needs_background": "light"
     },
     "output_type": "display_data"
    }
   ],
   "source": [
    "# 1/(2*pi) of a sine wave\n",
    "plt.plot(np.arange(44100) / 44100, create_sin_wave(1, 44100, 44100)) "
   ]
  },
  {
   "cell_type": "code",
   "execution_count": 237,
   "id": "be9aff9a-11c5-4a3c-a52c-38165945ee44",
   "metadata": {
    "pycharm": {
     "name": "#%%\n"
    }
   },
   "outputs": [],
   "source": [
    "frequencies = [1, 10, 100, 1000, 10000, 100000]\n",
    "atoms = np.array([create_cos_wave(frequency_multiplier=f, sampling_frequency=SAMPLE_RATE, num_samples=T) for f in frequencies])"
   ]
  },
  {
   "cell_type": "code",
   "execution_count": 238,
   "id": "5252e4ca-45f1-4e3a-a569-482cd1c9e158",
   "metadata": {
    "pycharm": {
     "name": "#%%\n"
    }
   },
   "outputs": [
    {
     "data": {
      "text/plain": [
       "array([-3.27195559e-05,  2.58508651e-07, -6.83540363e-06,  3.29910755e-04,\n",
       "       -1.42334472e-04,  6.21356813e-08])"
      ]
     },
     "execution_count": 238,
     "metadata": {},
     "output_type": "execute_result"
    }
   ],
   "source": [
    "(atoms @ data) / len(data)"
   ]
  },
  {
   "cell_type": "code",
   "execution_count": 239,
   "id": "b1514dd5-fbe5-4493-a214-50cd4cd4c773",
   "metadata": {
    "pycharm": {
     "name": "#%%\n"
    }
   },
   "outputs": [
    {
     "data": {
      "text/plain": [
       "(11713536,)"
      ]
     },
     "execution_count": 239,
     "metadata": {},
     "output_type": "execute_result"
    }
   ],
   "source": [
    "data.shape"
   ]
  },
  {
   "cell_type": "code",
   "execution_count": 240,
   "id": "55ae6129-98f0-4206-8461-0ec1573616eb",
   "metadata": {
    "pycharm": {
     "name": "#%%\n"
    }
   },
   "outputs": [
    {
     "name": "stdout",
     "output_type": "stream",
     "text": [
      "3 3864.42150528176\n"
     ]
    }
   ],
   "source": [
    "print(np.argmax(np.abs(atoms @ data)), np.max(np.abs(atoms@data)))"
   ]
  },
  {
   "cell_type": "code",
   "execution_count": 241,
   "id": "e66df082-be1f-42e5-af73-e35aa4803edb",
   "metadata": {
    "pycharm": {
     "name": "#%%\n"
    }
   },
   "outputs": [
    {
     "data": {
      "text/plain": [
       "array([-3.83261696e+03,  3.02805039e+01, -8.00667465e+02,  3.86442151e+04,\n",
       "       -1.66723996e+04,  7.27828540e+00])"
      ]
     },
     "execution_count": 241,
     "metadata": {},
     "output_type": "execute_result"
    }
   ],
   "source": [
    "stack(atoms, 10) @ stack(data, 10)"
   ]
  },
  {
   "cell_type": "code",
   "execution_count": 243,
   "id": "b8765bbe-c64b-40ea-8fcf-7792c7597c48",
   "metadata": {
    "pycharm": {
     "name": "#%%\n"
    }
   },
   "outputs": [
    {
     "name": "stdout",
     "output_type": "stream",
     "text": [
      "[0 1 2 3 4 5]\n",
      "1\n",
      "[3.43957658e-04 5.65014549e-04 1.99474218e-04 1.79388532e-04\n",
      " 2.41702527e-04 5.26618809e-05]\n",
      "[-0.01096704 -0.01074598 -0.01111152 -0.01113161 -0.01106929 -0.01125833]\n",
      "[0.01165495 0.01187601 0.01151047 0.01149038 0.0115527  0.01136366]\n",
      "\n",
      "\n",
      "[0 1 2 3 4 5]\n",
      "1\n",
      "[4.52976350e-04 5.76841803e-04 2.54638107e-04 9.46051852e-05\n",
      " 3.27847736e-04 4.13396059e-05]\n",
      "[-0.0075451  -0.00742124 -0.00774344 -0.00790348 -0.00767023 -0.00795674]\n",
      "[0.00845106 0.00857492 0.00825272 0.00809269 0.00832593 0.00803942]\n",
      "\n",
      "\n",
      "[0 1 2 3 4 5]\n",
      "0\n",
      "[5.11062925e-04 3.53227591e-04 2.94755985e-04 8.33640683e-06\n",
      " 7.55360444e-05 2.38609412e-05]\n",
      "[-0.00601934 -0.00617718 -0.00623565 -0.00652207 -0.00645487 -0.00650654]\n",
      "[0.00704147 0.00688363 0.00682516 0.00653874 0.00660594 0.00655427]\n",
      "\n",
      "\n",
      "[0 1 2 3 4 5]\n",
      "1\n",
      "[2.13486135e-04 2.62788536e-04 3.58057598e-05 4.62945083e-05\n",
      " 1.24946329e-04 7.73807542e-06]\n",
      "[-0.00544201 -0.00539271 -0.00561969 -0.0056092  -0.00553055 -0.00564776]\n",
      "[0.00586898 0.00591829 0.0056913  0.00570179 0.00578044 0.00566324]\n",
      "\n",
      "\n",
      "[0 1 2 3 4 5]\n",
      "1\n",
      "[1.94554338e-04 2.29196167e-04 3.21946338e-05 9.05788121e-05\n",
      " 1.35309320e-05 1.01696317e-04]\n",
      "[-0.00486388 -0.00482923 -0.00502624 -0.00496785 -0.0050449  -0.00495673]\n",
      "[0.00525298 0.00528763 0.00509063 0.00514901 0.00507196 0.00516013]\n",
      "\n",
      "\n",
      "[0 1 2 3 4 5]\n",
      "1\n",
      "[1.69679851e-04 1.83085177e-04 6.62348845e-06 9.47619612e-05\n",
      " 1.47633795e-04 6.63157830e-05]\n",
      "[-0.00444801 -0.00443461 -0.00461107 -0.00452293 -0.00447006 -0.00455138]\n",
      "[0.00478737 0.00480078 0.00462432 0.00471246 0.00476533 0.00468401]\n",
      "\n",
      "\n"
     ]
    },
    {
     "ename": "KeyboardInterrupt",
     "evalue": "",
     "output_type": "error",
     "traceback": [
      "\u001B[0;31m---------------------------------------------------------------------------\u001B[0m",
      "\u001B[0;31mKeyboardInterrupt\u001B[0m                         Traceback (most recent call last)",
      "Input \u001B[0;32mIn [243]\u001B[0m, in \u001B[0;36m<cell line: 3>\u001B[0;34m()\u001B[0m\n\u001B[1;32m      1\u001B[0m \u001B[38;5;66;03m# Run AE to identify the most present frequency in Ultranumb, stacked 10 times. Answer should be index 3\u001B[39;00m\n\u001B[1;32m      2\u001B[0m signals \u001B[38;5;241m=\u001B[39m data\u001B[38;5;241m.\u001B[39mreshape(\u001B[38;5;241m1\u001B[39m, \u001B[38;5;241m-\u001B[39m\u001B[38;5;241m1\u001B[39m)\n\u001B[0;32m----> 3\u001B[0m \u001B[43maction_elimination\u001B[49m\u001B[43m(\u001B[49m\u001B[43mstack\u001B[49m\u001B[43m(\u001B[49m\u001B[43matoms\u001B[49m\u001B[43m,\u001B[49m\u001B[43m \u001B[49m\u001B[38;5;241;43m10\u001B[39;49m\u001B[43m)\u001B[49m\u001B[43m,\u001B[49m\u001B[43m \u001B[49m\u001B[43mstack\u001B[49m\u001B[43m(\u001B[49m\u001B[43msignals\u001B[49m\u001B[43m,\u001B[49m\u001B[43m \u001B[49m\u001B[38;5;241;43m10\u001B[39;49m\u001B[43m)\u001B[49m\u001B[43m,\u001B[49m\u001B[43m \u001B[49m\u001B[43mvar_proxy\u001B[49m\u001B[43m \u001B[49m\u001B[38;5;241;43m=\u001B[39;49m\u001B[43m \u001B[49m\u001B[38;5;241;43m1\u001B[39;49m\u001B[43m,\u001B[49m\u001B[43m \u001B[49m\u001B[43mepsilon\u001B[49m\u001B[38;5;241;43m=\u001B[39;49m\u001B[38;5;241;43m0\u001B[39;49m\u001B[43m,\u001B[49m\u001B[43m \u001B[49m\u001B[43mdelta\u001B[49m\u001B[38;5;241;43m=\u001B[39;49m\u001B[38;5;241;43m0.01\u001B[39;49m\u001B[43m,\u001B[49m\u001B[43m \u001B[49m\u001B[38;5;28;43mabs\u001B[39;49m\u001B[38;5;241;43m=\u001B[39;49m\u001B[38;5;28;43;01mTrue\u001B[39;49;00m\u001B[43m,\u001B[49m\u001B[43m \u001B[49m\u001B[43mbatch_size\u001B[49m\u001B[38;5;241;43m=\u001B[39;49m\u001B[38;5;241;43m100000\u001B[39;49m\u001B[43m)\u001B[49m\n",
      "File \u001B[0;32m~/PycharmProjects/PIMABs/algorithms/action_elimination.py:94\u001B[0m, in \u001B[0;36maction_elimination\u001B[0;34m(atoms, signals, var_proxy, epsilon, delta, num_best_atoms, abs, verbose, batch_size, with_replacement, seed)\u001B[0m\n\u001B[1;32m     91\u001B[0m budgets \u001B[38;5;241m+\u001B[39m\u001B[38;5;241m=\u001B[39m batch_size \u001B[38;5;241m*\u001B[39m \u001B[38;5;28mlen\u001B[39m(candidates)\n\u001B[1;32m     93\u001B[0m \u001B[38;5;28;01mif\u001B[39;00m with_replacement:\n\u001B[0;32m---> 94\u001B[0m     sample_idcs \u001B[38;5;241m=\u001B[39m \u001B[43mnp\u001B[49m\u001B[38;5;241;43m.\u001B[39;49m\u001B[43mrandom\u001B[49m\u001B[38;5;241;43m.\u001B[39;49m\u001B[43mchoice\u001B[49m\u001B[43m(\u001B[49m\u001B[43mnp\u001B[49m\u001B[38;5;241;43m.\u001B[39;49m\u001B[43marange\u001B[49m\u001B[43m(\u001B[49m\u001B[43md\u001B[49m\u001B[43m)\u001B[49m\u001B[43m,\u001B[49m\u001B[43m \u001B[49m\u001B[43mbatch_size\u001B[49m\u001B[43m,\u001B[49m\u001B[43m \u001B[49m\u001B[43mreplace\u001B[49m\u001B[38;5;241;43m=\u001B[39;49m\u001B[38;5;28;43;01mFalse\u001B[39;49;00m\u001B[43m)\u001B[49m\n\u001B[1;32m     95\u001B[0m \u001B[38;5;28;01melse\u001B[39;00m:\n\u001B[1;32m     96\u001B[0m     sample_idcs \u001B[38;5;241m=\u001B[39m shuffled_idcs[(t \u001B[38;5;241m-\u001B[39m \u001B[38;5;241m1\u001B[39m) \u001B[38;5;241m*\u001B[39m batch_size : t \u001B[38;5;241m*\u001B[39m batch_size]\n",
      "\u001B[0;31mKeyboardInterrupt\u001B[0m: "
     ]
    }
   ],
   "source": [
    "# Run AE to identify the most present frequency in Ultranumb, stacked 10 times. Answer should be index 3\n",
    "signals = data.reshape(1, -1)\n",
    "action_elimination(stack(atoms, 10), stack(signals, 10), var_proxy = 1, epsilon=0, delta=0.01, abs=True, batch_size=100000)"
   ]
  },
  {
   "cell_type": "markdown",
   "id": "931941b8-9036-48d9-829d-82584373d5d7",
   "metadata": {
    "pycharm": {
     "name": "#%% md\n"
    }
   },
   "source": [
    "# Let's create a simple song"
   ]
  },
  {
   "cell_type": "code",
   "execution_count": 219,
   "id": "b76e3ef3-989e-4514-a88a-ce6366d1441a",
   "metadata": {
    "pycharm": {
     "name": "#%%\n"
    }
   },
   "outputs": [],
   "source": [
    "song = create_song(num_minutes=10)\n",
    "#sf.write('A440.wav', song, SAMPLE_RATE)"
   ]
  },
  {
   "cell_type": "code",
   "execution_count": 248,
   "id": "9359b868-d734-42ac-b011-eebb3eb71d5f",
   "metadata": {
    "pycharm": {
     "name": "#%%\n"
    }
   },
   "outputs": [
    {
     "name": "stdout",
     "output_type": "stream",
     "text": [
      "[2]\n",
      "2\n",
      "[0.05791313 0.31776706 0.86232533 0.30219241 0.22805964 0.03176157]\n",
      "[-0.01824248  0.24161145  0.78616972  0.2260368   0.15190403 -0.04439403]\n",
      "[0.13406874 0.39392266 0.93848093 0.37834802 0.30421525 0.10791718]\n",
      "\n",
      "\n"
     ]
    },
    {
     "data": {
      "text/plain": [
       "(array([[2]]), array([1800]))"
      ]
     },
     "execution_count": 248,
     "metadata": {},
     "output_type": "execute_result"
    }
   ],
   "source": [
    "signals = song.reshape(1, -1)\n",
    "\n",
    "# Note: Need to use 2*\\pi exactly here! Using 6.28 means that the waves won't go through\n",
    "# full cycles each second, which means stacking them 10 times will give different answers from just continuing them\n",
    "two_pi = 2*np.pi\n",
    "frequencies = two_pi * np.array([256, 330, 392, 2*256, 2*330, 2*392])\n",
    "atoms = np.array([create_sin_wave(frequency_multiplier=f, sampling_frequency=SAMPLE_RATE, num_samples=SAMPLE_RATE*SECONDS_PER_MINUTE*10) for f in frequencies])\n",
    "\n",
    "# Identify the first component with AE. Should be index 2, i.e., G0\n",
    "action_elimination(atoms, signals, var_proxy = 0.1, epsilon=0, delta=0.001, abs=True, batch_size=300)"
   ]
  },
  {
   "cell_type": "code",
   "execution_count": 252,
   "id": "3975c244-b3a7-4d50-9d84-3cb2019ce54f",
   "metadata": {
    "pycharm": {
     "name": "#%%\n"
    }
   },
   "outputs": [
    {
     "name": "stdout",
     "output_type": "stream",
     "text": [
      "[[6.61500000e+06]\n",
      " [1.32300000e+07]\n",
      " [3.96900000e+07]\n",
      " [1.65375000e+07]\n",
      " [9.92250000e+06]\n",
      " [3.04525862e-08]]\n",
      "\n",
      "[[2.50000000e-01]\n",
      " [5.00000000e-01]\n",
      " [1.50000000e+00]\n",
      " [6.25000000e-01]\n",
      " [3.75000000e-01]\n",
      " [1.15089139e-15]]\n"
     ]
    }
   ],
   "source": [
    "print(atoms @ signals.T)\n",
    "print()\n",
    "print((atoms @ signals.T) / 26460000)"
   ]
  },
  {
   "cell_type": "code",
   "execution_count": 253,
   "id": "efbb1413-85b2-4b58-8755-e6ee53de6faa",
   "metadata": {
    "pycharm": {
     "name": "#%%\n"
    }
   },
   "outputs": [
    {
     "name": "stdout",
     "output_type": "stream",
     "text": [
      "[2]\n",
      "2\n",
      "[0.06109297 0.26060032 0.70166021 0.33816611 0.20048664 0.08924961]\n",
      "[-0.00421109  0.19529626  0.63635615  0.27286206  0.13518259  0.02394556]\n",
      "[0.12639702 0.32590437 0.76696427 0.40347017 0.2657907  0.15455367]\n",
      "\n",
      "\n"
     ]
    },
    {
     "data": {
      "text/plain": [
       "(array([[2]]), array([1800]))"
      ]
     },
     "execution_count": 253,
     "metadata": {},
     "output_type": "execute_result"
    }
   ],
   "source": [
    "# Check that we can stack the data and still get the same complexity\n",
    "action_elimination(stack(atoms, 4), stack(signals, 4), var_proxy = 0.1, epsilon=0, delta=0.01, abs=True, batch_size=300)"
   ]
  },
  {
   "cell_type": "code",
   "execution_count": 259,
   "id": "c4ab4ac3-8576-46d8-a6f0-d37b4681672a",
   "metadata": {
    "pycharm": {
     "name": "#%%\n"
    }
   },
   "outputs": [
    {
     "name": "stdout",
     "output_type": "stream",
     "text": [
      "[1 3 4]\n",
      "1\n",
      "[0.11179798 0.32381339 0.01026791 0.32155648 0.20673746 0.01302609]\n",
      "[ 0.03564237  0.24765778 -0.06588769  0.24540087  0.13058185 -0.06312952]\n",
      "[0.18795359 0.399969   0.08642352 0.39771209 0.28289307 0.0891817 ]\n",
      "\n",
      "\n",
      "[1 3]\n",
      "3\n",
      "[0.11179798 0.34307976 0.01026791 0.44879034 0.26403904 0.01302609]\n",
      "[ 0.03564237  0.28922962 -0.06588769  0.3949402   0.21018889 -0.06312952]\n",
      "[0.18795359 0.39692991 0.08642352 0.50264049 0.31788918 0.0891817 ]\n",
      "\n",
      "\n",
      "[3]\n",
      "3\n",
      "[0.11179798 0.37223093 0.01026791 0.5021315  0.26403904 0.01302609]\n",
      "[ 0.03564237  0.32826247 -0.06588769  0.45816304  0.21018889 -0.06312952]\n",
      "[0.18795359 0.41619939 0.08642352 0.54609996 0.31788918 0.0891817 ]\n",
      "\n",
      "\n"
     ]
    },
    {
     "data": {
      "text/plain": [
       "(array([[3]]), array([3300]))"
      ]
     },
     "execution_count": 259,
     "metadata": {},
     "output_type": "execute_result"
    }
   ],
   "source": [
    "# Let's delete G0 and run AE on the remainder to make sure we find C1, i.e., index 3\n",
    "two_pi = 2 * np.pi\n",
    "G0 = create_sin_wave(frequency_multiplier=392 * two_pi, sampling_frequency=SAMPLE_RATE,num_samples=SAMPLE_RATE * SECONDS_PER_MINUTE*10)\n",
    "signal_G0_removed = signals - 3*G0\n",
    "\n",
    "action_elimination(atoms, signal_G0_removed, var_proxy = 0.1, epsilon=0, delta=0.001, abs=True, batch_size=300)"
   ]
  },
  {
   "cell_type": "markdown",
   "id": "96cedc0b-a8f2-4a3a-aef8-8fb4cb4b3b15",
   "metadata": {
    "pycharm": {
     "name": "#%% md\n"
    }
   },
   "source": [
    "# A reminder of the pain of substituting 6.28 for 2$\\pi$"
   ]
  },
  {
   "cell_type": "code",
   "execution_count": 257,
   "id": "8576ae8a-a1e2-4117-830e-891fa6020192",
   "metadata": {
    "pycharm": {
     "name": "#%%\n"
    }
   },
   "outputs": [
    {
     "name": "stdout",
     "output_type": "stream",
     "text": [
      "0.0\n",
      "-1.7639370568305323e-11\n",
      "0.04697590286782147\n",
      "0.046999712164788904\n"
     ]
    },
    {
     "data": {
      "image/png": "[encoded data removed]",
      "text/plain": [
       "<Figure size 432x288 with 1 Axes>"
      ]
     },
     "metadata": {
      "needs_background": "light"
     },
     "output_type": "display_data"
    }
   ],
   "source": [
    "# Somehow sampling with 10x as many is different from stacking 10 times!!!\n",
    "# Slight different in frequency because of 6.28 instead of 2*pi??? YES!!!\n",
    "\n",
    "print(E0_10[2646000])\n",
    "print(atoms[1][2646000])\n",
    "print(E0_10[2646001])\n",
    "print(atoms[1][2646001])\n",
    "\n",
    "buffer = 100\n",
    "plt.scatter(range(2*buffer), E0_10[2646000 - buffer:2646000 + buffer])\n",
    "plt.scatter(range(2*buffer), atoms[1, 2646000 - buffer:2646000 + buffer])\n",
    "plt.show()"
   ]
  }
 ],
 "metadata": {
  "kernelspec": {
   "display_name": "Python 3 (ipykernel)",
   "language": "python",
   "name": "python3"
  },
  "language_info": {
   "codemirror_mode": {
    "name": "ipython",
    "version": 3
   },
   "file_extension": ".py",
   "mimetype": "text/x-python",
   "name": "python",
   "nbconvert_exporter": "python",
   "pygments_lexer": "ipython3",
   "version": "3.10.5"
  }
 },
 "nbformat": 4,
 "nbformat_minor": 5
}